{
 "cells": [
  {
   "cell_type": "markdown",
   "id": "25f64fc6",
   "metadata": {},
   "source": [
    "### This important step is to add the path of your virtual environment site packages to the system path."
   ]
  },
  {
   "cell_type": "code",
   "execution_count": 1,
   "id": "6d45c01d",
   "metadata": {},
   "outputs": [],
   "source": [
    "import sys\n",
    "\n",
    "sys.path.append('/home/juanagreda/anaconda3/lib/python3.8/site-packages')"
   ]
  },
  {
   "cell_type": "code",
   "execution_count": 2,
   "id": "32f2aba2",
   "metadata": {},
   "outputs": [],
   "source": [
    "import statsmodels.api as sm\n",
    "import matplotlib.pyplot as plt\n",
    "import pandas as pd\n",
    "import numpy as np\n",
    "from sklearn.preprocessing import scale\n",
    "\n",
    "import researchpy as rp\n",
    "from scipy import stats"
   ]
  },
  {
   "cell_type": "code",
   "execution_count": 3,
   "id": "95089473",
   "metadata": {},
   "outputs": [
    {
     "data": {
      "text/plain": [
       "(731, 16)"
      ]
     },
     "execution_count": 3,
     "metadata": {},
     "output_type": "execute_result"
    }
   ],
   "source": [
    "df = pd.read_csv('day.csv')\n",
    "\n",
    "df.shape"
   ]
  },
  {
   "cell_type": "code",
   "execution_count": 4,
   "id": "b2772af5",
   "metadata": {},
   "outputs": [
    {
     "data": {
      "text/html": [
       "<div>\n",
       "<style scoped>\n",
       "    .dataframe tbody tr th:only-of-type {\n",
       "        vertical-align: middle;\n",
       "    }\n",
       "\n",
       "    .dataframe tbody tr th {\n",
       "        vertical-align: top;\n",
       "    }\n",
       "\n",
       "    .dataframe thead th {\n",
       "        text-align: right;\n",
       "    }\n",
       "</style>\n",
       "<table border=\"1\" class=\"dataframe\">\n",
       "  <thead>\n",
       "    <tr style=\"text-align: right;\">\n",
       "      <th></th>\n",
       "      <th>instant</th>\n",
       "      <th>dteday</th>\n",
       "      <th>season</th>\n",
       "      <th>yr</th>\n",
       "      <th>mnth</th>\n",
       "      <th>holiday</th>\n",
       "      <th>weekday</th>\n",
       "      <th>workingday</th>\n",
       "      <th>weathersit</th>\n",
       "      <th>temp</th>\n",
       "      <th>atemp</th>\n",
       "      <th>hum</th>\n",
       "      <th>windspeed</th>\n",
       "      <th>casual</th>\n",
       "      <th>registered</th>\n",
       "      <th>cnt</th>\n",
       "    </tr>\n",
       "  </thead>\n",
       "  <tbody>\n",
       "    <tr>\n",
       "      <th>0</th>\n",
       "      <td>1</td>\n",
       "      <td>2011-01-01</td>\n",
       "      <td>1</td>\n",
       "      <td>0</td>\n",
       "      <td>1</td>\n",
       "      <td>0</td>\n",
       "      <td>6</td>\n",
       "      <td>0</td>\n",
       "      <td>2</td>\n",
       "      <td>0.344167</td>\n",
       "      <td>0.363625</td>\n",
       "      <td>0.805833</td>\n",
       "      <td>0.160446</td>\n",
       "      <td>331</td>\n",
       "      <td>654</td>\n",
       "      <td>985</td>\n",
       "    </tr>\n",
       "    <tr>\n",
       "      <th>1</th>\n",
       "      <td>2</td>\n",
       "      <td>2011-01-02</td>\n",
       "      <td>1</td>\n",
       "      <td>0</td>\n",
       "      <td>1</td>\n",
       "      <td>0</td>\n",
       "      <td>0</td>\n",
       "      <td>0</td>\n",
       "      <td>2</td>\n",
       "      <td>0.363478</td>\n",
       "      <td>0.353739</td>\n",
       "      <td>0.696087</td>\n",
       "      <td>0.248539</td>\n",
       "      <td>131</td>\n",
       "      <td>670</td>\n",
       "      <td>801</td>\n",
       "    </tr>\n",
       "    <tr>\n",
       "      <th>2</th>\n",
       "      <td>3</td>\n",
       "      <td>2011-01-03</td>\n",
       "      <td>1</td>\n",
       "      <td>0</td>\n",
       "      <td>1</td>\n",
       "      <td>0</td>\n",
       "      <td>1</td>\n",
       "      <td>1</td>\n",
       "      <td>1</td>\n",
       "      <td>0.196364</td>\n",
       "      <td>0.189405</td>\n",
       "      <td>0.437273</td>\n",
       "      <td>0.248309</td>\n",
       "      <td>120</td>\n",
       "      <td>1229</td>\n",
       "      <td>1349</td>\n",
       "    </tr>\n",
       "    <tr>\n",
       "      <th>3</th>\n",
       "      <td>4</td>\n",
       "      <td>2011-01-04</td>\n",
       "      <td>1</td>\n",
       "      <td>0</td>\n",
       "      <td>1</td>\n",
       "      <td>0</td>\n",
       "      <td>2</td>\n",
       "      <td>1</td>\n",
       "      <td>1</td>\n",
       "      <td>0.200000</td>\n",
       "      <td>0.212122</td>\n",
       "      <td>0.590435</td>\n",
       "      <td>0.160296</td>\n",
       "      <td>108</td>\n",
       "      <td>1454</td>\n",
       "      <td>1562</td>\n",
       "    </tr>\n",
       "    <tr>\n",
       "      <th>4</th>\n",
       "      <td>5</td>\n",
       "      <td>2011-01-05</td>\n",
       "      <td>1</td>\n",
       "      <td>0</td>\n",
       "      <td>1</td>\n",
       "      <td>0</td>\n",
       "      <td>3</td>\n",
       "      <td>1</td>\n",
       "      <td>1</td>\n",
       "      <td>0.226957</td>\n",
       "      <td>0.229270</td>\n",
       "      <td>0.436957</td>\n",
       "      <td>0.186900</td>\n",
       "      <td>82</td>\n",
       "      <td>1518</td>\n",
       "      <td>1600</td>\n",
       "    </tr>\n",
       "  </tbody>\n",
       "</table>\n",
       "</div>"
      ],
      "text/plain": [
       "   instant      dteday  season  yr  mnth  holiday  weekday  workingday  \\\n",
       "0        1  2011-01-01       1   0     1        0        6           0   \n",
       "1        2  2011-01-02       1   0     1        0        0           0   \n",
       "2        3  2011-01-03       1   0     1        0        1           1   \n",
       "3        4  2011-01-04       1   0     1        0        2           1   \n",
       "4        5  2011-01-05       1   0     1        0        3           1   \n",
       "\n",
       "   weathersit      temp     atemp       hum  windspeed  casual  registered  \\\n",
       "0           2  0.344167  0.363625  0.805833   0.160446     331         654   \n",
       "1           2  0.363478  0.353739  0.696087   0.248539     131         670   \n",
       "2           1  0.196364  0.189405  0.437273   0.248309     120        1229   \n",
       "3           1  0.200000  0.212122  0.590435   0.160296     108        1454   \n",
       "4           1  0.226957  0.229270  0.436957   0.186900      82        1518   \n",
       "\n",
       "    cnt  \n",
       "0   985  \n",
       "1   801  \n",
       "2  1349  \n",
       "3  1562  \n",
       "4  1600  "
      ]
     },
     "execution_count": 4,
     "metadata": {},
     "output_type": "execute_result"
    }
   ],
   "source": [
    "df.head()"
   ]
  },
  {
   "cell_type": "markdown",
   "id": "d5490d3c",
   "metadata": {},
   "source": [
    "# We'll use the t-test to determine whether the effect of working day and the temperature on the number of bikes that were rented is significant"
   ]
  },
  {
   "cell_type": "code",
   "execution_count": 5,
   "id": "3fb9840c",
   "metadata": {},
   "outputs": [
    {
     "data": {
      "text/plain": [
       "Index(['instant', 'dteday', 'season', 'yr', 'mnth', 'holiday', 'weekday',\n",
       "       'workingday', 'weathersit', 'temp', 'atemp', 'hum', 'windspeed',\n",
       "       'casual', 'registered', 'cnt'],\n",
       "      dtype='object')"
      ]
     },
     "execution_count": 5,
     "metadata": {},
     "output_type": "execute_result"
    }
   ],
   "source": [
    "df.columns"
   ]
  },
  {
   "cell_type": "markdown",
   "id": "35045228",
   "metadata": {},
   "source": [
    "### Because of we will use the original dataset later, we only will keep the columns necesary to do the t-test"
   ]
  },
  {
   "cell_type": "code",
   "execution_count": 6,
   "id": "ed824bab",
   "metadata": {},
   "outputs": [],
   "source": [
    "df = df[['season', \n",
    "         'mnth',\n",
    "         'holiday', \n",
    "         'workingday', \n",
    "         'weathersit', \n",
    "         'temp', \n",
    "         'cnt']]"
   ]
  },
  {
   "cell_type": "markdown",
   "id": "9e4697fd",
   "metadata": {},
   "source": [
    "### Save the new dataset, in to csv file."
   ]
  },
  {
   "cell_type": "code",
   "execution_count": 7,
   "id": "c37f9d59",
   "metadata": {},
   "outputs": [],
   "source": [
    "df.to_csv('bike_sharing_data_processed.csv', index=False)"
   ]
  },
  {
   "cell_type": "code",
   "execution_count": 8,
   "id": "6e092055",
   "metadata": {},
   "outputs": [
    {
     "data": {
      "text/html": [
       "<div>\n",
       "<style scoped>\n",
       "    .dataframe tbody tr th:only-of-type {\n",
       "        vertical-align: middle;\n",
       "    }\n",
       "\n",
       "    .dataframe tbody tr th {\n",
       "        vertical-align: top;\n",
       "    }\n",
       "\n",
       "    .dataframe thead th {\n",
       "        text-align: right;\n",
       "    }\n",
       "</style>\n",
       "<table border=\"1\" class=\"dataframe\">\n",
       "  <thead>\n",
       "    <tr style=\"text-align: right;\">\n",
       "      <th></th>\n",
       "      <th>season</th>\n",
       "      <th>mnth</th>\n",
       "      <th>holiday</th>\n",
       "      <th>workingday</th>\n",
       "      <th>weathersit</th>\n",
       "      <th>temp</th>\n",
       "      <th>cnt</th>\n",
       "    </tr>\n",
       "  </thead>\n",
       "  <tbody>\n",
       "    <tr>\n",
       "      <th>0</th>\n",
       "      <td>1</td>\n",
       "      <td>1</td>\n",
       "      <td>0</td>\n",
       "      <td>0</td>\n",
       "      <td>2</td>\n",
       "      <td>0.344167</td>\n",
       "      <td>985</td>\n",
       "    </tr>\n",
       "    <tr>\n",
       "      <th>1</th>\n",
       "      <td>1</td>\n",
       "      <td>1</td>\n",
       "      <td>0</td>\n",
       "      <td>0</td>\n",
       "      <td>2</td>\n",
       "      <td>0.363478</td>\n",
       "      <td>801</td>\n",
       "    </tr>\n",
       "    <tr>\n",
       "      <th>2</th>\n",
       "      <td>1</td>\n",
       "      <td>1</td>\n",
       "      <td>0</td>\n",
       "      <td>1</td>\n",
       "      <td>1</td>\n",
       "      <td>0.196364</td>\n",
       "      <td>1349</td>\n",
       "    </tr>\n",
       "    <tr>\n",
       "      <th>3</th>\n",
       "      <td>1</td>\n",
       "      <td>1</td>\n",
       "      <td>0</td>\n",
       "      <td>1</td>\n",
       "      <td>1</td>\n",
       "      <td>0.200000</td>\n",
       "      <td>1562</td>\n",
       "    </tr>\n",
       "    <tr>\n",
       "      <th>4</th>\n",
       "      <td>1</td>\n",
       "      <td>1</td>\n",
       "      <td>0</td>\n",
       "      <td>1</td>\n",
       "      <td>1</td>\n",
       "      <td>0.226957</td>\n",
       "      <td>1600</td>\n",
       "    </tr>\n",
       "  </tbody>\n",
       "</table>\n",
       "</div>"
      ],
      "text/plain": [
       "   season  mnth  holiday  workingday  weathersit      temp   cnt\n",
       "0       1     1        0           0           2  0.344167   985\n",
       "1       1     1        0           0           2  0.363478   801\n",
       "2       1     1        0           1           1  0.196364  1349\n",
       "3       1     1        0           1           1  0.200000  1562\n",
       "4       1     1        0           1           1  0.226957  1600"
      ]
     },
     "execution_count": 8,
     "metadata": {},
     "output_type": "execute_result"
    }
   ],
   "source": [
    "df.head()"
   ]
  },
  {
   "cell_type": "code",
   "execution_count": 9,
   "id": "cc9c777d",
   "metadata": {},
   "outputs": [
    {
     "data": {
      "text/plain": [
       "4"
      ]
     },
     "execution_count": 9,
     "metadata": {},
     "output_type": "execute_result"
    }
   ],
   "source": [
    "df['season'].nunique()"
   ]
  },
  {
   "cell_type": "markdown",
   "id": "28005ce3",
   "metadata": {},
   "source": [
    "### Season has 4 unique values"
   ]
  },
  {
   "cell_type": "markdown",
   "id": "01d9c23f",
   "metadata": {},
   "source": [
    "### 1.Spring 2.Summer 3.Fall 4.Winter"
   ]
  },
  {
   "cell_type": "code",
   "execution_count": 10,
   "id": "4f8f1422",
   "metadata": {},
   "outputs": [
    {
     "data": {
      "text/plain": [
       "array([1, 2, 3, 4])"
      ]
     },
     "execution_count": 10,
     "metadata": {},
     "output_type": "execute_result"
    }
   ],
   "source": [
    "df['season'].unique()"
   ]
  },
  {
   "cell_type": "code",
   "execution_count": 11,
   "id": "47bc56b6",
   "metadata": {},
   "outputs": [
    {
     "data": {
      "text/plain": [
       "array([0, 1])"
      ]
     },
     "execution_count": 11,
     "metadata": {},
     "output_type": "execute_result"
    }
   ],
   "source": [
    "df['workingday'].unique()"
   ]
  },
  {
   "cell_type": "code",
   "execution_count": 12,
   "id": "ee008cd2",
   "metadata": {},
   "outputs": [
    {
     "data": {
      "text/plain": [
       "array([0, 1])"
      ]
     },
     "execution_count": 12,
     "metadata": {},
     "output_type": "execute_result"
    }
   ],
   "source": [
    "df['holiday'].unique()"
   ]
  },
  {
   "cell_type": "code",
   "execution_count": 13,
   "id": "9f84e333",
   "metadata": {},
   "outputs": [
    {
     "data": {
      "text/plain": [
       "array([2, 1, 3])"
      ]
     },
     "execution_count": 13,
     "metadata": {},
     "output_type": "execute_result"
    }
   ],
   "source": [
    "df['weathersit'].unique()"
   ]
  },
  {
   "cell_type": "markdown",
   "id": "6a209c35",
   "metadata": {},
   "source": [
    "### weathersit :\n",
    "    1: Clear, Few clouds, Partly cloudy, Partly cloudy\n",
    "    2: Mist + Cloudy, Mist + Broken clouds, Mist + Few clouds, Mist\n",
    "    3: Light Snow, Light Rain + Thunderstorm + Scattered clouds, Light Rain + Scattered      clouds\n",
    "    4: Heavy Rain + Ice Pallets + Thunderstorm + Mist, Snow + Fog"
   ]
  },
  {
   "cell_type": "code",
   "execution_count": 14,
   "id": "d14be72d",
   "metadata": {},
   "outputs": [
    {
     "data": {
      "text/plain": [
       "499"
      ]
     },
     "execution_count": 14,
     "metadata": {},
     "output_type": "execute_result"
    }
   ],
   "source": [
    "df['temp'].nunique()"
   ]
  },
  {
   "cell_type": "code",
   "execution_count": 15,
   "id": "ef38ea78",
   "metadata": {},
   "outputs": [
    {
     "data": {
      "text/plain": [
       "count    731.000000\n",
       "mean       0.495385\n",
       "std        0.183051\n",
       "min        0.059130\n",
       "25%        0.337083\n",
       "50%        0.498333\n",
       "75%        0.655417\n",
       "max        0.861667\n",
       "Name: temp, dtype: float64"
      ]
     },
     "execution_count": 15,
     "metadata": {},
     "output_type": "execute_result"
    }
   ],
   "source": [
    "df['temp'].describe()"
   ]
  },
  {
   "cell_type": "markdown",
   "id": "dd3e6dfe",
   "metadata": {},
   "source": [
    "### Groupby, to compare data of features with functions"
   ]
  },
  {
   "cell_type": "code",
   "execution_count": 16,
   "id": "9c888ef9",
   "metadata": {},
   "outputs": [
    {
     "data": {
      "text/html": [
       "<div>\n",
       "<style scoped>\n",
       "    .dataframe tbody tr th:only-of-type {\n",
       "        vertical-align: middle;\n",
       "    }\n",
       "\n",
       "    .dataframe tbody tr th {\n",
       "        vertical-align: top;\n",
       "    }\n",
       "\n",
       "    .dataframe thead th {\n",
       "        text-align: right;\n",
       "    }\n",
       "</style>\n",
       "<table border=\"1\" class=\"dataframe\">\n",
       "  <thead>\n",
       "    <tr style=\"text-align: right;\">\n",
       "      <th></th>\n",
       "      <th>count</th>\n",
       "      <th>mean</th>\n",
       "      <th>std</th>\n",
       "      <th>min</th>\n",
       "      <th>25%</th>\n",
       "      <th>50%</th>\n",
       "      <th>75%</th>\n",
       "      <th>max</th>\n",
       "    </tr>\n",
       "    <tr>\n",
       "      <th>workingday</th>\n",
       "      <th></th>\n",
       "      <th></th>\n",
       "      <th></th>\n",
       "      <th></th>\n",
       "      <th></th>\n",
       "      <th></th>\n",
       "      <th></th>\n",
       "      <th></th>\n",
       "    </tr>\n",
       "  </thead>\n",
       "  <tbody>\n",
       "    <tr>\n",
       "      <th>0</th>\n",
       "      <td>231.0</td>\n",
       "      <td>4330.168831</td>\n",
       "      <td>2052.141245</td>\n",
       "      <td>605.0</td>\n",
       "      <td>2710.50</td>\n",
       "      <td>4459.0</td>\n",
       "      <td>5907.5</td>\n",
       "      <td>8714.0</td>\n",
       "    </tr>\n",
       "    <tr>\n",
       "      <th>1</th>\n",
       "      <td>500.0</td>\n",
       "      <td>4584.820000</td>\n",
       "      <td>1878.415583</td>\n",
       "      <td>22.0</td>\n",
       "      <td>3344.25</td>\n",
       "      <td>4582.0</td>\n",
       "      <td>5987.5</td>\n",
       "      <td>8362.0</td>\n",
       "    </tr>\n",
       "  </tbody>\n",
       "</table>\n",
       "</div>"
      ],
      "text/plain": [
       "            count         mean          std    min      25%     50%     75%  \\\n",
       "workingday                                                                    \n",
       "0           231.0  4330.168831  2052.141245  605.0  2710.50  4459.0  5907.5   \n",
       "1           500.0  4584.820000  1878.415583   22.0  3344.25  4582.0  5987.5   \n",
       "\n",
       "               max  \n",
       "workingday          \n",
       "0           8714.0  \n",
       "1           8362.0  "
      ]
     },
     "execution_count": 16,
     "metadata": {},
     "output_type": "execute_result"
    }
   ],
   "source": [
    "df.groupby('workingday')['cnt'].describe()"
   ]
  },
  {
   "cell_type": "markdown",
   "id": "e1c7e2fe",
   "metadata": {},
   "source": [
    "### 0. No working day, 1.working day"
   ]
  },
  {
   "cell_type": "code",
   "execution_count": 17,
   "id": "f73a12f7",
   "metadata": {},
   "outputs": [
    {
     "data": {
      "text/plain": [
       "<AxesSubplot:title={'center':'cnt'}, xlabel='workingday'>"
      ]
     },
     "execution_count": 17,
     "metadata": {},
     "output_type": "execute_result"
    },
    {
     "data": {
      "image/png": "[encoded data removed]",
      "text/plain": [
       "<Figure size 720x576 with 1 Axes>"
      ]
     },
     "metadata": {
      "needs_background": "light"
     },
     "output_type": "display_data"
    }
   ],
   "source": [
    "df.boxplot(column=['cnt'], by='workingday', figsize=(10, 8))"
   ]
  },
  {
   "cell_type": "code",
   "execution_count": 76,
   "id": "19fb5b96",
   "metadata": {},
   "outputs": [],
   "source": [
    "sample_01 = df[(df['workingday'] == 1)]\n",
    "\n",
    "sample_02 = df[(df['workingday'] == 0)]"
   ]
  },
  {
   "cell_type": "code",
   "execution_count": 77,
   "id": "b9b818b3",
   "metadata": {},
   "outputs": [
    {
     "data": {
      "text/plain": [
       "((500, 8), (231, 8))"
      ]
     },
     "execution_count": 77,
     "metadata": {},
     "output_type": "execute_result"
    }
   ],
   "source": [
    "sample_01.shape, sample_02.shape"
   ]
  },
  {
   "cell_type": "code",
   "execution_count": 78,
   "id": "dab52c38",
   "metadata": {},
   "outputs": [
    {
     "data": {
      "text/plain": [
       "((231, 8), (231, 8))"
      ]
     },
     "execution_count": 78,
     "metadata": {},
     "output_type": "execute_result"
    }
   ],
   "source": [
    "sample_01 = sample_01.sample(231)\n",
    "\n",
    "sample_01.shape, sample_02.shape"
   ]
  },
  {
   "cell_type": "markdown",
   "id": "e4c475c3",
   "metadata": {},
   "source": [
    "### For t-test we need both of the sample sizes to be the same"
   ]
  },
  {
   "cell_type": "markdown",
   "id": "942cc4cb",
   "metadata": {},
   "source": [
    "### Levene's test to check whether the *variance* of the two grps are the same, like t-test but for VARIANCE"
   ]
  },
  {
   "cell_type": "code",
   "execution_count": 79,
   "id": "adee12df",
   "metadata": {},
   "outputs": [
    {
     "data": {
      "text/plain": [
       "LeveneResult(statistic=3.435568560896823, pvalue=0.06444666626734163)"
      ]
     },
     "execution_count": 79,
     "metadata": {},
     "output_type": "execute_result"
    }
   ],
   "source": [
    "stats.levene(sample_01['cnt'], sample_02['cnt'])"
   ]
  },
  {
   "cell_type": "markdown",
   "id": "604a7f1f",
   "metadata": {},
   "source": [
    "## The hypothesis being tested\n",
    "\n",
    "* __Null hypothesis (H0): Var Sample_1 = Var Sample_2, which translates to the variance of `sample_01` is equal to the variance of `sample 02`__\n",
    "* __Alternative hypothesis (H1): u1 ? u2, which translates to the variance of `sample01` is not equal to `sample 02`__"
   ]
  },
  {
   "cell_type": "markdown",
   "id": "bde2bbf1",
   "metadata": {},
   "source": [
    "### - p-value = 0.09 > 0.05, reject H1, accept H0, variance 01 is equal to variance 02"
   ]
  },
  {
   "cell_type": "markdown",
   "id": "365487ab",
   "metadata": {},
   "source": [
    "### - p-value = 0.02 < 0.05, reject H0, so accept H1, variance 01 is not equal variance 02, the is a difference between the variance in the population"
   ]
  },
  {
   "cell_type": "code",
   "execution_count": 80,
   "id": "1971b235",
   "metadata": {},
   "outputs": [
    {
     "data": {
      "text/plain": [
       "(array([ 3.,  7., 19., 39., 49., 36., 44., 19., 10.,  5.]),\n",
       " array([-2.71142227, -2.18022169, -1.64902111, -1.11782053, -0.58661994,\n",
       "        -0.05541936,  0.47578122,  1.00698181,  1.53818239,  2.06938297,\n",
       "         2.60058355]),\n",
       " <BarContainer object of 10 artists>)"
      ]
     },
     "execution_count": 80,
     "metadata": {},
     "output_type": "execute_result"
    },
    {
     "data": {
      "image/png": "[encoded data removed]",
      "text/plain": [
       "<Figure size 432x288 with 1 Axes>"
      ]
     },
     "metadata": {
      "needs_background": "light"
     },
     "output_type": "display_data"
    }
   ],
   "source": [
    "diff = scale(np.array(sample_01['cnt']) - np.array(sample_02['cnt'], dtype=float))\n",
    "\n",
    "plt.hist(diff)"
   ]
  },
  {
   "cell_type": "markdown",
   "id": "07b0015f",
   "metadata": {},
   "source": [
    "### The scale function will standardize the results, so will subtracts the mean from every value that we have and devides by the stantard deviation"
   ]
  },
  {
   "cell_type": "markdown",
   "id": "3d29c215",
   "metadata": {},
   "source": [
    "### Residuals is calculate by the differences between sample01 - sample02"
   ]
  },
  {
   "cell_type": "code",
   "execution_count": 81,
   "id": "b47f2727",
   "metadata": {},
   "outputs": [
    {
     "data": {
      "image/png": "[encoded data removed]",
      "text/plain": [
       "<Figure size 864x576 with 1 Axes>"
      ]
     },
     "metadata": {
      "needs_background": "light"
     },
     "output_type": "display_data"
    }
   ],
   "source": [
    "plt.figure(figsize=(12, 8))\n",
    "\n",
    "stats.probplot(diff, plot=plt, dist='norm')\n",
    "\n",
    "plt.show()"
   ]
  },
  {
   "cell_type": "markdown",
   "id": "b7d6b878",
   "metadata": {},
   "source": [
    "### QQ-PLOT, PROBABILITY PLOT"
   ]
  },
  {
   "cell_type": "code",
   "execution_count": 82,
   "id": "204b419d",
   "metadata": {},
   "outputs": [
    {
     "data": {
      "text/plain": [
       "ShapiroResult(statistic=0.9958690404891968, pvalue=0.7967422008514404)"
      ]
     },
     "execution_count": 82,
     "metadata": {},
     "output_type": "execute_result"
    }
   ],
   "source": [
    "stats.shapiro(diff)"
   ]
  },
  {
   "cell_type": "markdown",
   "id": "2f031415",
   "metadata": {},
   "source": [
    "### p-value = 0.66 > 0.05,reject H1, accept H0, population is normally distributed"
   ]
  },
  {
   "cell_type": "code",
   "execution_count": 83,
   "id": "c6a0b25f",
   "metadata": {},
   "outputs": [
    {
     "data": {
      "text/plain": [
       "Ttest_indResult(statistic=1.3117944839503846, pvalue=0.19024377736736153)"
      ]
     },
     "execution_count": 83,
     "metadata": {},
     "output_type": "execute_result"
    }
   ],
   "source": [
    "stats.ttest_ind(sample_01['cnt'], sample_02['cnt'])"
   ]
  },
  {
   "cell_type": "markdown",
   "id": "f4418275",
   "metadata": {},
   "source": [
    "### p-value = 0.8 > 0.05, reject H1, accept H0, there is no difference between the means of these two grps"
   ]
  },
  {
   "cell_type": "markdown",
   "id": "a4a72a95",
   "metadata": {},
   "source": [
    "### we can say that whether its a working day or not has no effect on the number of bikes shared\n"
   ]
  },
  {
   "cell_type": "code",
   "execution_count": 84,
   "id": "304ee555",
   "metadata": {},
   "outputs": [],
   "source": [
    "descriptives, results = rp.ttest(sample_01['cnt'], sample_02['cnt'])"
   ]
  },
  {
   "cell_type": "code",
   "execution_count": 85,
   "id": "df15e8b6",
   "metadata": {},
   "outputs": [
    {
     "data": {
      "text/html": [
       "<div>\n",
       "<style scoped>\n",
       "    .dataframe tbody tr th:only-of-type {\n",
       "        vertical-align: middle;\n",
       "    }\n",
       "\n",
       "    .dataframe tbody tr th {\n",
       "        vertical-align: top;\n",
       "    }\n",
       "\n",
       "    .dataframe thead th {\n",
       "        text-align: right;\n",
       "    }\n",
       "</style>\n",
       "<table border=\"1\" class=\"dataframe\">\n",
       "  <thead>\n",
       "    <tr style=\"text-align: right;\">\n",
       "      <th></th>\n",
       "      <th>Variable</th>\n",
       "      <th>N</th>\n",
       "      <th>Mean</th>\n",
       "      <th>SD</th>\n",
       "      <th>SE</th>\n",
       "      <th>95% Conf.</th>\n",
       "      <th>Interval</th>\n",
       "    </tr>\n",
       "  </thead>\n",
       "  <tbody>\n",
       "    <tr>\n",
       "      <th>0</th>\n",
       "      <td>cnt</td>\n",
       "      <td>231.0</td>\n",
       "      <td>4569.852814</td>\n",
       "      <td>1870.979236</td>\n",
       "      <td>123.101396</td>\n",
       "      <td>4327.302222</td>\n",
       "      <td>4812.403406</td>\n",
       "    </tr>\n",
       "    <tr>\n",
       "      <th>1</th>\n",
       "      <td>cnt</td>\n",
       "      <td>231.0</td>\n",
       "      <td>4330.168831</td>\n",
       "      <td>2052.141245</td>\n",
       "      <td>135.020981</td>\n",
       "      <td>4064.132702</td>\n",
       "      <td>4596.204960</td>\n",
       "    </tr>\n",
       "    <tr>\n",
       "      <th>2</th>\n",
       "      <td>combined</td>\n",
       "      <td>462.0</td>\n",
       "      <td>4450.010823</td>\n",
       "      <td>1965.185104</td>\n",
       "      <td>91.428685</td>\n",
       "      <td>4270.342190</td>\n",
       "      <td>4629.679455</td>\n",
       "    </tr>\n",
       "  </tbody>\n",
       "</table>\n",
       "</div>"
      ],
      "text/plain": [
       "   Variable      N         Mean           SD          SE    95% Conf.  \\\n",
       "0       cnt  231.0  4569.852814  1870.979236  123.101396  4327.302222   \n",
       "1       cnt  231.0  4330.168831  2052.141245  135.020981  4064.132702   \n",
       "2  combined  462.0  4450.010823  1965.185104   91.428685  4270.342190   \n",
       "\n",
       "      Interval  \n",
       "0  4812.403406  \n",
       "1  4596.204960  \n",
       "2  4629.679455  "
      ]
     },
     "execution_count": 85,
     "metadata": {},
     "output_type": "execute_result"
    }
   ],
   "source": [
    "descriptives"
   ]
  },
  {
   "cell_type": "code",
   "execution_count": 86,
   "id": "494098e6",
   "metadata": {},
   "outputs": [
    {
     "name": "stdout",
     "output_type": "stream",
     "text": [
      "          Independent t-test   results\n",
      "0  Difference (cnt - cnt) =   239.6840\n",
      "1      Degrees of freedom =   460.0000\n",
      "2                       t =     1.3118\n",
      "3   Two side test p value =     0.1902\n",
      "4  Difference < 0 p value =     0.9049\n",
      "5  Difference > 0 p value =     0.0951\n",
      "6               Cohen's d =     0.1221\n",
      "7               Hedge's g =     0.1219\n",
      "8           Glass's delta =     0.1281\n",
      "9             Pearson's r =     0.0610\n"
     ]
    }
   ],
   "source": [
    "print(results)"
   ]
  },
  {
   "cell_type": "markdown",
   "id": "34cbb816",
   "metadata": {},
   "source": [
    "### p-value = 0.8 > 0.05, reject H1, accept H0, there is no difference between the means of these two populations"
   ]
  },
  {
   "cell_type": "markdown",
   "id": "df5a2942",
   "metadata": {},
   "source": [
    "### the number of bikes shared is not significantly impacted by whether its a working day or not"
   ]
  },
  {
   "cell_type": "markdown",
   "id": "454f32f7",
   "metadata": {},
   "source": [
    "# Now we want to know if temperature in a particular day is significant to rent bikes"
   ]
  },
  {
   "cell_type": "code",
   "execution_count": 29,
   "id": "fb0b91ff",
   "metadata": {},
   "outputs": [
    {
     "data": {
      "text/html": [
       "<div>\n",
       "<style scoped>\n",
       "    .dataframe tbody tr th:only-of-type {\n",
       "        vertical-align: middle;\n",
       "    }\n",
       "\n",
       "    .dataframe tbody tr th {\n",
       "        vertical-align: top;\n",
       "    }\n",
       "\n",
       "    .dataframe thead th {\n",
       "        text-align: right;\n",
       "    }\n",
       "</style>\n",
       "<table border=\"1\" class=\"dataframe\">\n",
       "  <thead>\n",
       "    <tr style=\"text-align: right;\">\n",
       "      <th></th>\n",
       "      <th>season</th>\n",
       "      <th>mnth</th>\n",
       "      <th>holiday</th>\n",
       "      <th>workingday</th>\n",
       "      <th>weathersit</th>\n",
       "      <th>temp</th>\n",
       "      <th>cnt</th>\n",
       "    </tr>\n",
       "  </thead>\n",
       "  <tbody>\n",
       "    <tr>\n",
       "      <th>0</th>\n",
       "      <td>1</td>\n",
       "      <td>1</td>\n",
       "      <td>0</td>\n",
       "      <td>0</td>\n",
       "      <td>2</td>\n",
       "      <td>0.344167</td>\n",
       "      <td>985</td>\n",
       "    </tr>\n",
       "    <tr>\n",
       "      <th>1</th>\n",
       "      <td>1</td>\n",
       "      <td>1</td>\n",
       "      <td>0</td>\n",
       "      <td>0</td>\n",
       "      <td>2</td>\n",
       "      <td>0.363478</td>\n",
       "      <td>801</td>\n",
       "    </tr>\n",
       "    <tr>\n",
       "      <th>2</th>\n",
       "      <td>1</td>\n",
       "      <td>1</td>\n",
       "      <td>0</td>\n",
       "      <td>1</td>\n",
       "      <td>1</td>\n",
       "      <td>0.196364</td>\n",
       "      <td>1349</td>\n",
       "    </tr>\n",
       "    <tr>\n",
       "      <th>3</th>\n",
       "      <td>1</td>\n",
       "      <td>1</td>\n",
       "      <td>0</td>\n",
       "      <td>1</td>\n",
       "      <td>1</td>\n",
       "      <td>0.200000</td>\n",
       "      <td>1562</td>\n",
       "    </tr>\n",
       "    <tr>\n",
       "      <th>4</th>\n",
       "      <td>1</td>\n",
       "      <td>1</td>\n",
       "      <td>0</td>\n",
       "      <td>1</td>\n",
       "      <td>1</td>\n",
       "      <td>0.226957</td>\n",
       "      <td>1600</td>\n",
       "    </tr>\n",
       "  </tbody>\n",
       "</table>\n",
       "</div>"
      ],
      "text/plain": [
       "   season  mnth  holiday  workingday  weathersit      temp   cnt\n",
       "0       1     1        0           0           2  0.344167   985\n",
       "1       1     1        0           0           2  0.363478   801\n",
       "2       1     1        0           1           1  0.196364  1349\n",
       "3       1     1        0           1           1  0.200000  1562\n",
       "4       1     1        0           1           1  0.226957  1600"
      ]
     },
     "execution_count": 29,
     "metadata": {},
     "output_type": "execute_result"
    }
   ],
   "source": [
    "df.head()"
   ]
  },
  {
   "cell_type": "code",
   "execution_count": 31,
   "id": "2bad10e2",
   "metadata": {},
   "outputs": [
    {
     "data": {
      "text/plain": [
       "<AxesSubplot:>"
      ]
     },
     "execution_count": 31,
     "metadata": {},
     "output_type": "execute_result"
    },
    {
     "data": {
      "image/png": "[encoded data removed]",
      "text/plain": [
       "<Figure size 864x576 with 1 Axes>"
      ]
     },
     "metadata": {
      "needs_background": "light"
     },
     "output_type": "display_data"
    }
   ],
   "source": [
    "df[['temp']].boxplot(figsize=(12, 8))"
   ]
  },
  {
   "cell_type": "code",
   "execution_count": 33,
   "id": "587ae75d",
   "metadata": {},
   "outputs": [
    {
     "data": {
      "text/plain": [
       "count    731.000000\n",
       "mean       0.495385\n",
       "std        0.183051\n",
       "min        0.059130\n",
       "25%        0.337083\n",
       "50%        0.498333\n",
       "75%        0.655417\n",
       "max        0.861667\n",
       "Name: temp, dtype: float64"
      ]
     },
     "execution_count": 33,
     "metadata": {},
     "output_type": "execute_result"
    }
   ],
   "source": [
    "df['temp'].describe()"
   ]
  },
  {
   "cell_type": "markdown",
   "id": "6f2643e2",
   "metadata": {},
   "source": [
    "### Add new column \"temp_category\", contains true,false, above and below mean "
   ]
  },
  {
   "cell_type": "code",
   "execution_count": 34,
   "id": "f8e320ef",
   "metadata": {},
   "outputs": [],
   "source": [
    "df['temp_category'] = df['temp'] > df['temp'].mean()"
   ]
  },
  {
   "cell_type": "markdown",
   "id": "60cd71ee",
   "metadata": {},
   "source": [
    "### To see random values of the dataset, we use .sample()"
   ]
  },
  {
   "cell_type": "code",
   "execution_count": 39,
   "id": "8bfb5ce8",
   "metadata": {},
   "outputs": [
    {
     "data": {
      "text/html": [
       "<div>\n",
       "<style scoped>\n",
       "    .dataframe tbody tr th:only-of-type {\n",
       "        vertical-align: middle;\n",
       "    }\n",
       "\n",
       "    .dataframe tbody tr th {\n",
       "        vertical-align: top;\n",
       "    }\n",
       "\n",
       "    .dataframe thead th {\n",
       "        text-align: right;\n",
       "    }\n",
       "</style>\n",
       "<table border=\"1\" class=\"dataframe\">\n",
       "  <thead>\n",
       "    <tr style=\"text-align: right;\">\n",
       "      <th></th>\n",
       "      <th>season</th>\n",
       "      <th>mnth</th>\n",
       "      <th>holiday</th>\n",
       "      <th>workingday</th>\n",
       "      <th>weathersit</th>\n",
       "      <th>temp</th>\n",
       "      <th>cnt</th>\n",
       "      <th>temp_category</th>\n",
       "    </tr>\n",
       "  </thead>\n",
       "  <tbody>\n",
       "    <tr>\n",
       "      <th>275</th>\n",
       "      <td>4</td>\n",
       "      <td>10</td>\n",
       "      <td>0</td>\n",
       "      <td>1</td>\n",
       "      <td>2</td>\n",
       "      <td>0.384167</td>\n",
       "      <td>3570</td>\n",
       "      <td>False</td>\n",
       "    </tr>\n",
       "    <tr>\n",
       "      <th>164</th>\n",
       "      <td>2</td>\n",
       "      <td>6</td>\n",
       "      <td>0</td>\n",
       "      <td>1</td>\n",
       "      <td>1</td>\n",
       "      <td>0.604167</td>\n",
       "      <td>4891</td>\n",
       "      <td>True</td>\n",
       "    </tr>\n",
       "    <tr>\n",
       "      <th>88</th>\n",
       "      <td>2</td>\n",
       "      <td>3</td>\n",
       "      <td>0</td>\n",
       "      <td>1</td>\n",
       "      <td>2</td>\n",
       "      <td>0.300000</td>\n",
       "      <td>1536</td>\n",
       "      <td>False</td>\n",
       "    </tr>\n",
       "    <tr>\n",
       "      <th>485</th>\n",
       "      <td>2</td>\n",
       "      <td>4</td>\n",
       "      <td>0</td>\n",
       "      <td>1</td>\n",
       "      <td>2</td>\n",
       "      <td>0.464167</td>\n",
       "      <td>5572</td>\n",
       "      <td>False</td>\n",
       "    </tr>\n",
       "    <tr>\n",
       "      <th>84</th>\n",
       "      <td>2</td>\n",
       "      <td>3</td>\n",
       "      <td>0</td>\n",
       "      <td>0</td>\n",
       "      <td>1</td>\n",
       "      <td>0.265833</td>\n",
       "      <td>2496</td>\n",
       "      <td>False</td>\n",
       "    </tr>\n",
       "    <tr>\n",
       "      <th>295</th>\n",
       "      <td>4</td>\n",
       "      <td>10</td>\n",
       "      <td>0</td>\n",
       "      <td>0</td>\n",
       "      <td>1</td>\n",
       "      <td>0.421667</td>\n",
       "      <td>4381</td>\n",
       "      <td>False</td>\n",
       "    </tr>\n",
       "    <tr>\n",
       "      <th>413</th>\n",
       "      <td>1</td>\n",
       "      <td>2</td>\n",
       "      <td>0</td>\n",
       "      <td>0</td>\n",
       "      <td>1</td>\n",
       "      <td>0.346667</td>\n",
       "      <td>4318</td>\n",
       "      <td>False</td>\n",
       "    </tr>\n",
       "    <tr>\n",
       "      <th>43</th>\n",
       "      <td>1</td>\n",
       "      <td>2</td>\n",
       "      <td>0</td>\n",
       "      <td>0</td>\n",
       "      <td>1</td>\n",
       "      <td>0.316522</td>\n",
       "      <td>1589</td>\n",
       "      <td>False</td>\n",
       "    </tr>\n",
       "    <tr>\n",
       "      <th>442</th>\n",
       "      <td>1</td>\n",
       "      <td>3</td>\n",
       "      <td>0</td>\n",
       "      <td>0</td>\n",
       "      <td>2</td>\n",
       "      <td>0.472500</td>\n",
       "      <td>5892</td>\n",
       "      <td>False</td>\n",
       "    </tr>\n",
       "    <tr>\n",
       "      <th>32</th>\n",
       "      <td>1</td>\n",
       "      <td>2</td>\n",
       "      <td>0</td>\n",
       "      <td>1</td>\n",
       "      <td>2</td>\n",
       "      <td>0.260000</td>\n",
       "      <td>1526</td>\n",
       "      <td>False</td>\n",
       "    </tr>\n",
       "  </tbody>\n",
       "</table>\n",
       "</div>"
      ],
      "text/plain": [
       "     season  mnth  holiday  workingday  weathersit      temp   cnt  \\\n",
       "275       4    10        0           1           2  0.384167  3570   \n",
       "164       2     6        0           1           1  0.604167  4891   \n",
       "88        2     3        0           1           2  0.300000  1536   \n",
       "485       2     4        0           1           2  0.464167  5572   \n",
       "84        2     3        0           0           1  0.265833  2496   \n",
       "295       4    10        0           0           1  0.421667  4381   \n",
       "413       1     2        0           0           1  0.346667  4318   \n",
       "43        1     2        0           0           1  0.316522  1589   \n",
       "442       1     3        0           0           2  0.472500  5892   \n",
       "32        1     2        0           1           2  0.260000  1526   \n",
       "\n",
       "     temp_category  \n",
       "275          False  \n",
       "164           True  \n",
       "88           False  \n",
       "485          False  \n",
       "84           False  \n",
       "295          False  \n",
       "413          False  \n",
       "43           False  \n",
       "442          False  \n",
       "32           False  "
      ]
     },
     "execution_count": 39,
     "metadata": {},
     "output_type": "execute_result"
    }
   ],
   "source": [
    "df.sample(10)"
   ]
  },
  {
   "cell_type": "markdown",
   "id": "86e98e10",
   "metadata": {},
   "source": [
    "### Hot day --> True, Above the mean,  Cold day --> False, below mean"
   ]
  },
  {
   "cell_type": "code",
   "execution_count": 41,
   "id": "ec7c0059",
   "metadata": {},
   "outputs": [
    {
     "data": {
      "text/html": [
       "<div>\n",
       "<style scoped>\n",
       "    .dataframe tbody tr th:only-of-type {\n",
       "        vertical-align: middle;\n",
       "    }\n",
       "\n",
       "    .dataframe tbody tr th {\n",
       "        vertical-align: top;\n",
       "    }\n",
       "\n",
       "    .dataframe thead th {\n",
       "        text-align: right;\n",
       "    }\n",
       "</style>\n",
       "<table border=\"1\" class=\"dataframe\">\n",
       "  <thead>\n",
       "    <tr style=\"text-align: right;\">\n",
       "      <th></th>\n",
       "      <th>count</th>\n",
       "      <th>mean</th>\n",
       "      <th>std</th>\n",
       "      <th>min</th>\n",
       "      <th>25%</th>\n",
       "      <th>50%</th>\n",
       "      <th>75%</th>\n",
       "      <th>max</th>\n",
       "    </tr>\n",
       "    <tr>\n",
       "      <th>temp_category</th>\n",
       "      <th></th>\n",
       "      <th></th>\n",
       "      <th></th>\n",
       "      <th></th>\n",
       "      <th></th>\n",
       "      <th></th>\n",
       "      <th></th>\n",
       "      <th></th>\n",
       "    </tr>\n",
       "  </thead>\n",
       "  <tbody>\n",
       "    <tr>\n",
       "      <th>False</th>\n",
       "      <td>364.0</td>\n",
       "      <td>3387.664835</td>\n",
       "      <td>1691.340133</td>\n",
       "      <td>22.0</td>\n",
       "      <td>1964.5</td>\n",
       "      <td>3301.0</td>\n",
       "      <td>4513.5</td>\n",
       "      <td>8090.0</td>\n",
       "    </tr>\n",
       "    <tr>\n",
       "      <th>True</th>\n",
       "      <td>367.0</td>\n",
       "      <td>5611.904632</td>\n",
       "      <td>1475.698228</td>\n",
       "      <td>1115.0</td>\n",
       "      <td>4548.5</td>\n",
       "      <td>5336.0</td>\n",
       "      <td>6897.5</td>\n",
       "      <td>8714.0</td>\n",
       "    </tr>\n",
       "  </tbody>\n",
       "</table>\n",
       "</div>"
      ],
      "text/plain": [
       "               count         mean          std     min     25%     50%  \\\n",
       "temp_category                                                            \n",
       "False          364.0  3387.664835  1691.340133    22.0  1964.5  3301.0   \n",
       "True           367.0  5611.904632  1475.698228  1115.0  4548.5  5336.0   \n",
       "\n",
       "                  75%     max  \n",
       "temp_category                  \n",
       "False          4513.5  8090.0  \n",
       "True           6897.5  8714.0  "
      ]
     },
     "execution_count": 41,
     "metadata": {},
     "output_type": "execute_result"
    }
   ],
   "source": [
    "df.groupby('temp_category')['cnt'].describe()"
   ]
  },
  {
   "cell_type": "markdown",
   "id": "fc2474e4",
   "metadata": {},
   "source": [
    "### df.groupby('v.independent')['v.dependent']"
   ]
  },
  {
   "cell_type": "code",
   "execution_count": 43,
   "id": "83191581",
   "metadata": {},
   "outputs": [
    {
     "data": {
      "text/plain": [
       "<AxesSubplot:title={'center':'cnt'}, xlabel='temp_category'>"
      ]
     },
     "execution_count": 43,
     "metadata": {},
     "output_type": "execute_result"
    },
    {
     "data": {
      "image/png": "[encoded data removed]",
      "text/plain": [
       "<Figure size 864x576 with 1 Axes>"
      ]
     },
     "metadata": {
      "needs_background": "light"
     },
     "output_type": "display_data"
    }
   ],
   "source": [
    "df.boxplot(column=['cnt'], by='temp_category', figsize=(12, 8))"
   ]
  },
  {
   "cell_type": "markdown",
   "id": "314820a4",
   "metadata": {},
   "source": [
    "### We use boxplot to observe the difference between the means\n",
    "\n",
    "### .boxplot(column=['response'], by='feature')"
   ]
  },
  {
   "cell_type": "code",
   "execution_count": 44,
   "id": "43547d68",
   "metadata": {},
   "outputs": [],
   "source": [
    "sample_01 = df[(df['temp_category'] == True)]\n",
    "\n",
    "sample_02 = df[(df['temp_category'] == False)]"
   ]
  },
  {
   "cell_type": "code",
   "execution_count": 45,
   "id": "30a1528f",
   "metadata": {},
   "outputs": [
    {
     "data": {
      "text/plain": [
       "((367, 8), (364, 8))"
      ]
     },
     "execution_count": 45,
     "metadata": {},
     "output_type": "execute_result"
    }
   ],
   "source": [
    "sample_01.shape, sample_02.shape"
   ]
  },
  {
   "cell_type": "code",
   "execution_count": 46,
   "id": "939916ab",
   "metadata": {},
   "outputs": [
    {
     "data": {
      "text/plain": [
       "((364, 8), (364, 8))"
      ]
     },
     "execution_count": 46,
     "metadata": {},
     "output_type": "execute_result"
    }
   ],
   "source": [
    "sample_01 = sample_01.sample(364)\n",
    "\n",
    "sample_01.shape, sample_02.shape"
   ]
  },
  {
   "cell_type": "markdown",
   "id": "8cae5ae9",
   "metadata": {},
   "source": [
    "# Firs Assumption, equal variance"
   ]
  },
  {
   "cell_type": "code",
   "execution_count": 49,
   "id": "a038a810",
   "metadata": {},
   "outputs": [
    {
     "data": {
      "text/plain": [
       "LeveneResult(statistic=4.816998102104189, pvalue=0.028496358947880596)"
      ]
     },
     "execution_count": 49,
     "metadata": {},
     "output_type": "execute_result"
    }
   ],
   "source": [
    "stats.levene(sample_01['cnt'], sample_02['cnt'])"
   ]
  },
  {
   "cell_type": "markdown",
   "id": "c1f88ca5",
   "metadata": {},
   "source": [
    "### p-value = 0.02 < 0.05, reject H0, accept H1, Variance not equal"
   ]
  },
  {
   "cell_type": "markdown",
   "id": "7f245eb1",
   "metadata": {},
   "source": [
    "# Second Assumption, Normal distribution of residuals"
   ]
  },
  {
   "cell_type": "code",
   "execution_count": 50,
   "id": "ef6d75bd",
   "metadata": {},
   "outputs": [
    {
     "data": {
      "text/plain": [
       "(array([ 4.,  1.,  7., 23., 61., 94., 71., 46., 41., 16.]),\n",
       " array([-3.45070278, -2.87886466, -2.30702655, -1.73518843, -1.16335032,\n",
       "        -0.5915122 , -0.01967408,  0.55216403,  1.12400215,  1.69584026,\n",
       "         2.26767838]),\n",
       " <BarContainer object of 10 artists>)"
      ]
     },
     "execution_count": 50,
     "metadata": {},
     "output_type": "execute_result"
    },
    {
     "data": {
      "image/png": "[encoded data removed]",
      "text/plain": [
       "<Figure size 432x288 with 1 Axes>"
      ]
     },
     "metadata": {
      "needs_background": "light"
     },
     "output_type": "display_data"
    }
   ],
   "source": [
    "diff = scale(np.array(sample_01['cnt']) - np.array(sample_02['cnt']))\n",
    "\n",
    "plt.hist(diff)"
   ]
  },
  {
   "cell_type": "markdown",
   "id": "52c3d199",
   "metadata": {},
   "source": [
    "### we can observe that the residuals show normal distribution"
   ]
  },
  {
   "cell_type": "markdown",
   "id": "63b481d0",
   "metadata": {},
   "source": [
    "### now we want to use pobability plot or QQ-plot"
   ]
  },
  {
   "cell_type": "code",
   "execution_count": 61,
   "id": "95f38b40",
   "metadata": {},
   "outputs": [
    {
     "data": {
      "image/png": "[encoded data removed]",
      "text/plain": [
       "<Figure size 864x576 with 1 Axes>"
      ]
     },
     "metadata": {
      "needs_background": "light"
     },
     "output_type": "display_data"
    }
   ],
   "source": [
    "plt.figure(figsize=(12, 8))\n",
    "stats.probplot(diff, plot=plt)\n",
    "plt.show()"
   ]
  },
  {
   "cell_type": "markdown",
   "id": "237b5a73",
   "metadata": {},
   "source": [
    "### .probplot, shows us that the residuals between the 2 grps is normally distributed"
   ]
  },
  {
   "cell_type": "code",
   "execution_count": 63,
   "id": "e69eb78f",
   "metadata": {},
   "outputs": [
    {
     "data": {
      "text/plain": [
       "ShapiroResult(statistic=0.986050546169281, pvalue=0.0014047350268810987)"
      ]
     },
     "execution_count": 63,
     "metadata": {},
     "output_type": "execute_result"
    }
   ],
   "source": [
    "stats.shapiro(diff)"
   ]
  },
  {
   "cell_type": "markdown",
   "id": "007e1dd2",
   "metadata": {},
   "source": [
    "### Shapiro test shows, p-value = 0.001 < 0.05, reject H0, accept H1, The residuals are not normally distributed"
   ]
  },
  {
   "cell_type": "markdown",
   "id": "54bdd554",
   "metadata": {},
   "source": [
    "### we have differences in the results, \n",
    "\n",
    "## We have to perform an independent t-test, using .ttest_ind"
   ]
  },
  {
   "cell_type": "code",
   "execution_count": 65,
   "id": "5bda285c",
   "metadata": {},
   "outputs": [
    {
     "data": {
      "text/plain": [
       "Ttest_indResult(statistic=18.938282587158795, pvalue=2.624505891356301e-65)"
      ]
     },
     "execution_count": 65,
     "metadata": {},
     "output_type": "execute_result"
    }
   ],
   "source": [
    "stats.ttest_ind(sample_01['cnt'], sample_02['cnt'])"
   ]
  },
  {
   "cell_type": "markdown",
   "id": "046f683d",
   "metadata": {},
   "source": [
    "### shows that test results are significant,\n",
    "\n",
    "### p-value = 0.000002 < 0.05, reject H0 (no difference), accept H1 (difference),  there is a statistically significant difference between the means in two groups."
   ]
  },
  {
   "cell_type": "markdown",
   "id": "137aa503",
   "metadata": {},
   "source": [
    "## Welch's t-test\n",
    "\n",
    "Welch’s Test for Unequal Variances t) is a modification of Student’s t-test to see if two sample means are significantly different"
   ]
  },
  {
   "cell_type": "code",
   "execution_count": 67,
   "id": "a88c6aa7",
   "metadata": {},
   "outputs": [],
   "source": [
    "descriptives, results = rp.ttest(sample_01['cnt'], sample_02['cnt'], equal_variances=False)"
   ]
  },
  {
   "cell_type": "code",
   "execution_count": 68,
   "id": "3dee8b97",
   "metadata": {},
   "outputs": [
    {
     "data": {
      "text/html": [
       "<div>\n",
       "<style scoped>\n",
       "    .dataframe tbody tr th:only-of-type {\n",
       "        vertical-align: middle;\n",
       "    }\n",
       "\n",
       "    .dataframe tbody tr th {\n",
       "        vertical-align: top;\n",
       "    }\n",
       "\n",
       "    .dataframe thead th {\n",
       "        text-align: right;\n",
       "    }\n",
       "</style>\n",
       "<table border=\"1\" class=\"dataframe\">\n",
       "  <thead>\n",
       "    <tr style=\"text-align: right;\">\n",
       "      <th></th>\n",
       "      <th>Variable</th>\n",
       "      <th>N</th>\n",
       "      <th>Mean</th>\n",
       "      <th>SD</th>\n",
       "      <th>SE</th>\n",
       "      <th>95% Conf.</th>\n",
       "      <th>Interval</th>\n",
       "    </tr>\n",
       "  </thead>\n",
       "  <tbody>\n",
       "    <tr>\n",
       "      <th>0</th>\n",
       "      <td>cnt</td>\n",
       "      <td>364.0</td>\n",
       "      <td>5614.376374</td>\n",
       "      <td>1473.585858</td>\n",
       "      <td>77.236886</td>\n",
       "      <td>5462.488444</td>\n",
       "      <td>5766.264303</td>\n",
       "    </tr>\n",
       "    <tr>\n",
       "      <th>1</th>\n",
       "      <td>cnt</td>\n",
       "      <td>364.0</td>\n",
       "      <td>3387.664835</td>\n",
       "      <td>1691.340133</td>\n",
       "      <td>88.650311</td>\n",
       "      <td>3213.332169</td>\n",
       "      <td>3561.997501</td>\n",
       "    </tr>\n",
       "    <tr>\n",
       "      <th>2</th>\n",
       "      <td>combined</td>\n",
       "      <td>728.0</td>\n",
       "      <td>4501.020604</td>\n",
       "      <td>1937.485126</td>\n",
       "      <td>71.807976</td>\n",
       "      <td>4360.044857</td>\n",
       "      <td>4641.996352</td>\n",
       "    </tr>\n",
       "  </tbody>\n",
       "</table>\n",
       "</div>"
      ],
      "text/plain": [
       "   Variable      N         Mean           SD         SE    95% Conf.  \\\n",
       "0       cnt  364.0  5614.376374  1473.585858  77.236886  5462.488444   \n",
       "1       cnt  364.0  3387.664835  1691.340133  88.650311  3213.332169   \n",
       "2  combined  728.0  4501.020604  1937.485126  71.807976  4360.044857   \n",
       "\n",
       "      Interval  \n",
       "0  5766.264303  \n",
       "1  3561.997501  \n",
       "2  4641.996352  "
      ]
     },
     "execution_count": 68,
     "metadata": {},
     "output_type": "execute_result"
    }
   ],
   "source": [
    "descriptives"
   ]
  },
  {
   "cell_type": "markdown",
   "id": "c2633830",
   "metadata": {},
   "source": [
    "### is this difference in means is significant?"
   ]
  },
  {
   "cell_type": "markdown",
   "id": "6da9780d",
   "metadata": {},
   "source": [
    "### we can observe difference between the two means"
   ]
  },
  {
   "cell_type": "code",
   "execution_count": 69,
   "id": "baebc69b",
   "metadata": {},
   "outputs": [
    {
     "name": "stdout",
     "output_type": "stream",
     "text": [
      "              Welch's t-test    results\n",
      "0  Difference (cnt - cnt) =   2226.7115\n",
      "1      Degrees of freedom =    714.5595\n",
      "2                       t =     18.9383\n",
      "3   Two side test p value =      0.0000\n",
      "4  Difference < 0 p value =      1.0000\n",
      "5  Difference > 0 p value =      0.0000\n",
      "6               Cohen's d =      1.4038\n",
      "7               Hedge's g =      1.4023\n",
      "8           Glass's delta =      1.5111\n",
      "9             Pearson's r =      0.5781\n"
     ]
    }
   ],
   "source": [
    "print(results)"
   ]
  },
  {
   "cell_type": "markdown",
   "id": "2bd3aa38",
   "metadata": {},
   "source": [
    "### p-value clost to cero, very very tiny, and t-statistic is significant"
   ]
  },
  {
   "cell_type": "markdown",
   "id": "9c8a91cf",
   "metadata": {},
   "source": [
    "### p-value = 0.00 < 0.05, reject H0 (no difference in means), accept H1(difference in means)\n",
    "\n",
    "## We can say that temperature of the day (hot or cold) has siginificant impact on the number of bike rented "
   ]
  },
  {
   "cell_type": "code",
   "execution_count": null,
   "id": "8e00c63d",
   "metadata": {},
   "outputs": [],
   "source": []
  }
 ],
 "metadata": {
  "kernelspec": {
   "display_name": "Python 3",
   "language": "python",
   "name": "python3"
  },
  "language_info": {
   "codemirror_mode": {
    "name": "ipython",
    "version": 3
   },
   "file_extension": ".py",
   "mimetype": "text/x-python",
   "name": "python",
   "nbconvert_exporter": "python",
   "pygments_lexer": "ipython3",
   "version": "3.9.4"
  }
 },
 "nbformat": 4,
 "nbformat_minor": 5
}
